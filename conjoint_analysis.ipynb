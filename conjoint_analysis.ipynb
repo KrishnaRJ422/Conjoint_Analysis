{
 "cells": [
  {
   "cell_type": "code",
   "execution_count": 8,
   "metadata": {},
   "outputs": [],
   "source": [
    "from IPython.core.interactiveshell import InteractiveShell\n",
    "InteractiveShell.ast_node_interactivity='all'"
   ]
  },
  {
   "cell_type": "code",
   "execution_count": 72,
   "metadata": {},
   "outputs": [],
   "source": [
    "import pandas as pd\n",
    "import numpy as np\n",
    "from matplotlib import pyplot as plt\n",
    "import seaborn as sns"
   ]
  },
  {
   "cell_type": "code",
   "execution_count": 21,
   "metadata": {},
   "outputs": [
    {
     "data": {
      "text/html": [
       "<div>\n",
       "<style scoped>\n",
       "    .dataframe tbody tr th:only-of-type {\n",
       "        vertical-align: middle;\n",
       "    }\n",
       "\n",
       "    .dataframe tbody tr th {\n",
       "        vertical-align: top;\n",
       "    }\n",
       "\n",
       "    .dataframe thead th {\n",
       "        text-align: right;\n",
       "    }\n",
       "</style>\n",
       "<table border=\"1\" class=\"dataframe\">\n",
       "  <thead>\n",
       "    <tr style=\"text-align: right;\">\n",
       "      <th></th>\n",
       "      <th>flavor</th>\n",
       "      <th>price</th>\n",
       "      <th>weight</th>\n",
       "      <th>fat_free</th>\n",
       "      <th>sodium_free</th>\n",
       "      <th>gluten_free</th>\n",
       "      <th>organic</th>\n",
       "      <th>multipack</th>\n",
       "      <th>ranking</th>\n",
       "    </tr>\n",
       "  </thead>\n",
       "  <tbody>\n",
       "    <tr>\n",
       "      <th>0</th>\n",
       "      <td>cheese&amp;onion</td>\n",
       "      <td>$1.00</td>\n",
       "      <td>100g</td>\n",
       "      <td>fat_free NO</td>\n",
       "      <td>low_sodium NO</td>\n",
       "      <td>gluten_free NO</td>\n",
       "      <td>organic NO</td>\n",
       "      <td>multipack NO</td>\n",
       "      <td>11</td>\n",
       "    </tr>\n",
       "    <tr>\n",
       "      <th>1</th>\n",
       "      <td>salt&amp;vinegar</td>\n",
       "      <td>$3.00</td>\n",
       "      <td>100g</td>\n",
       "      <td>fat_free NO</td>\n",
       "      <td>low_sodium YES</td>\n",
       "      <td>gluten_free YES</td>\n",
       "      <td>organic YES</td>\n",
       "      <td>multipack NO</td>\n",
       "      <td>12</td>\n",
       "    </tr>\n",
       "    <tr>\n",
       "      <th>2</th>\n",
       "      <td>chicken_flavored</td>\n",
       "      <td>$4.00</td>\n",
       "      <td>200g</td>\n",
       "      <td>fat_free NO</td>\n",
       "      <td>low_sodium NO</td>\n",
       "      <td>gluten_free NO</td>\n",
       "      <td>organic YES</td>\n",
       "      <td>multipack NO</td>\n",
       "      <td>9</td>\n",
       "    </tr>\n",
       "    <tr>\n",
       "      <th>3</th>\n",
       "      <td>salt&amp;vinegar</td>\n",
       "      <td>$4.00</td>\n",
       "      <td>400g</td>\n",
       "      <td>fat_free YES</td>\n",
       "      <td>low_sodium YES</td>\n",
       "      <td>gluten_free NO</td>\n",
       "      <td>organic NO</td>\n",
       "      <td>multipack NO</td>\n",
       "      <td>2</td>\n",
       "    </tr>\n",
       "    <tr>\n",
       "      <th>4</th>\n",
       "      <td>salt&amp;vinegar</td>\n",
       "      <td>$2.00</td>\n",
       "      <td>300g</td>\n",
       "      <td>fat_free NO</td>\n",
       "      <td>low_sodium NO</td>\n",
       "      <td>gluten_free NO</td>\n",
       "      <td>organic YES</td>\n",
       "      <td>multipack YES</td>\n",
       "      <td>8</td>\n",
       "    </tr>\n",
       "  </tbody>\n",
       "</table>\n",
       "</div>"
      ],
      "text/plain": [
       "             flavor  price weight      fat_free     sodium_free  \\\n",
       "0      cheese&onion  $1.00   100g   fat_free NO   low_sodium NO   \n",
       "1      salt&vinegar  $3.00   100g   fat_free NO  low_sodium YES   \n",
       "2  chicken_flavored  $4.00   200g   fat_free NO   low_sodium NO   \n",
       "3      salt&vinegar  $4.00   400g  fat_free YES  low_sodium YES   \n",
       "4      salt&vinegar  $2.00   300g   fat_free NO   low_sodium NO   \n",
       "\n",
       "       gluten_free      organic      multipack  ranking  \n",
       "0   gluten_free NO   organic NO   multipack NO       11  \n",
       "1  gluten_free YES  organic YES   multipack NO       12  \n",
       "2   gluten_free NO  organic YES   multipack NO        9  \n",
       "3   gluten_free NO   organic NO   multipack NO        2  \n",
       "4   gluten_free NO  organic YES  multipack YES        8  "
      ]
     },
     "execution_count": 21,
     "metadata": {},
     "output_type": "execute_result"
    }
   ],
   "source": [
    "cd=pd.read_csv(r'C:\\Users\\krish\\Documents\\UoH\\datasets tableau project\\conjoint_input_data.csv')\n",
    "cd.head()"
   ]
  },
  {
   "cell_type": "code",
   "execution_count": 9,
   "metadata": {},
   "outputs": [
    {
     "data": {
      "text/plain": [
       "(16, 9)"
      ]
     },
     "execution_count": 9,
     "metadata": {},
     "output_type": "execute_result"
    },
    {
     "data": {
      "text/plain": [
       "<bound method DataFrame.info of               flavor  price weight      fat_free     sodium_free  \\\n",
       "0       cheese&onion  $1.00   100g   fat_free NO   low_sodium NO   \n",
       "1       salt&vinegar  $3.00   100g   fat_free NO  low_sodium YES   \n",
       "2   chicken_flavored  $4.00   200g   fat_free NO   low_sodium NO   \n",
       "3       salt&vinegar  $4.00   400g  fat_free YES  low_sodium YES   \n",
       "4       salt&vinegar  $2.00   300g   fat_free NO   low_sodium NO   \n",
       "5       salt&vinegar  $1.00   200g  fat_free YES   low_sodium NO   \n",
       "6   chicken_flavored  $3.00   300g  fat_free YES   low_sodium NO   \n",
       "7       cheese&onion  $4.00   300g   fat_free NO  low_sodium YES   \n",
       "8       cheese&onion  $2.00   400g  fat_free YES   low_sodium NO   \n",
       "9     tomato_ketchup  $4.00   100g  fat_free YES   low_sodium NO   \n",
       "10  chicken_flavored  $1.00   400g   fat_free NO  low_sodium YES   \n",
       "11    tomato_ketchup  $2.00   200g   fat_free NO  low_sodium YES   \n",
       "12    tomato_ketchup  $1.00   300g  fat_free YES  low_sodium YES   \n",
       "13  chicken_flavored  $2.00   100g  fat_free YES  low_sodium YES   \n",
       "14    tomato_ketchup  $3.00   400g   fat_free NO   low_sodium NO   \n",
       "15      cheese&onion  $3.00   200g  fat_free YES  low_sodium YES   \n",
       "\n",
       "        gluten_free      organic      multipack  ranking  \n",
       "0    gluten_free NO   organic NO   multipack NO       11  \n",
       "1   gluten_free YES  organic YES   multipack NO       12  \n",
       "2    gluten_free NO  organic YES   multipack NO        9  \n",
       "3    gluten_free NO   organic NO   multipack NO        2  \n",
       "4    gluten_free NO  organic YES  multipack YES        8  \n",
       "5   gluten_free YES   organic NO  multipack YES       13  \n",
       "6   gluten_free YES   organic NO   multipack NO        7  \n",
       "7   gluten_free YES   organic NO  multipack YES        4  \n",
       "8   gluten_free YES  organic YES   multipack NO        5  \n",
       "9   gluten_free YES  organic YES  multipack YES       16  \n",
       "10  gluten_free YES  organic YES  multipack YES        3  \n",
       "11  gluten_free YES   organic NO   multipack NO        6  \n",
       "12   gluten_free NO  organic YES   multipack NO       10  \n",
       "13   gluten_free NO   organic NO  multipack YES       15  \n",
       "14   gluten_free NO   organic NO  multipack YES        1  \n",
       "15   gluten_free NO  organic YES  multipack YES       14  >"
      ]
     },
     "execution_count": 9,
     "metadata": {},
     "output_type": "execute_result"
    }
   ],
   "source": [
    "cd.shape\n",
    "cd.info"
   ]
  },
  {
   "cell_type": "code",
   "execution_count": 10,
   "metadata": {},
   "outputs": [
    {
     "data": {
      "text/plain": [
       "flavor         object\n",
       "price          object\n",
       "weight         object\n",
       "fat_free       object\n",
       "sodium_free    object\n",
       "gluten_free    object\n",
       "organic        object\n",
       "multipack      object\n",
       "ranking         int64\n",
       "dtype: object"
      ]
     },
     "execution_count": 10,
     "metadata": {},
     "output_type": "execute_result"
    }
   ],
   "source": [
    "cd.dtypes"
   ]
  },
  {
   "cell_type": "code",
   "execution_count": 17,
   "metadata": {},
   "outputs": [
    {
     "name": "stdout",
     "output_type": "stream",
     "text": [
      "Domain values of flavor are: \n",
      " ['cheese&onion' 'salt&vinegar' 'chicken_flavored' 'tomato_ketchup']\n",
      "Domain values of price are: \n",
      " ['$1.00' '$3.00' '$4.00' '$2.00']\n",
      "Domain values of weight are: \n",
      " ['100g' '200g' '400g' '300g']\n",
      "Domain values of fat_free are: \n",
      " ['fat_free NO' 'fat_free YES']\n",
      "Domain values of sodium_free are: \n",
      " ['low_sodium NO' 'low_sodium YES']\n",
      "Domain values of gluten_free are: \n",
      " ['gluten_free NO' 'gluten_free YES']\n",
      "Domain values of organic are: \n",
      " ['organic NO' 'organic YES']\n",
      "Domain values of multipack are: \n",
      " ['multipack NO' 'multipack YES']\n",
      "Domain values of ranking are: \n",
      " [11 12  9  2  8 13  7  4  5 16  3  6 10 15  1 14]\n"
     ]
    }
   ],
   "source": [
    "for i in cd.columns:\n",
    "    print(\"Domain values of {} are: \\n {}\".format(i,cd[str(i)].unique()))"
   ]
  },
  {
   "cell_type": "code",
   "execution_count": 66,
   "metadata": {},
   "outputs": [
    {
     "name": "stdout",
     "output_type": "stream",
     "text": [
      "                            OLS Regression Results                            \n",
      "==============================================================================\n",
      "Dep. Variable:                ranking   R-squared:                       0.999\n",
      "Model:                            OLS   Adj. R-squared:                  0.989\n",
      "Method:                 Least Squares   F-statistic:                     97.07\n",
      "Date:                Sat, 15 Jan 2022   Prob (F-statistic):             0.0794\n",
      "Time:                        08:29:31   Log-Likelihood:                 10.568\n",
      "No. Observations:                  16   AIC:                             8.864\n",
      "Df Residuals:                       1   BIC:                             20.45\n",
      "Df Model:                          14                                         \n",
      "Covariance Type:            nonrobust                                         \n",
      "=========================================================================================================\n",
      "                                            coef    std err          t      P>|t|      [0.025      0.975]\n",
      "---------------------------------------------------------------------------------------------------------\n",
      "Intercept                                 8.7500      0.177     49.497      0.013       6.504      10.996\n",
      "C(flavor, Sum)[S.cheese&onion]         5.107e-15      0.217   2.36e-14      1.000      -2.751       2.751\n",
      "C(flavor, Sum)[S.chicken_flavored]     5.107e-15      0.217   2.36e-14      1.000      -2.751       2.751\n",
      "C(flavor, Sum)[S.salt&vinegar]            0.2500      0.217      1.155      0.454      -2.501       3.001\n",
      "C(price, Sum)[S.$1.00]                    0.7500      0.217      3.464      0.179      -2.001       3.501\n",
      "C(price, Sum)[S.$2.00]                 3.442e-15      0.217   1.59e-14      1.000      -2.751       2.751\n",
      "C(price, Sum)[S.$3.00]                -4.441e-16      0.217  -2.05e-15      1.000      -2.751       2.751\n",
      "C(weight, Sum)[S.100g]                    5.0000      0.217     23.094      0.028       2.249       7.751\n",
      "C(weight, Sum)[S.200g]                    2.0000      0.217      9.238      0.069      -0.751       4.751\n",
      "C(weight, Sum)[S.300g]                   -1.2500      0.217     -5.774      0.109      -4.001       1.501\n",
      "C(fat_free, Sum)[S.fat_free NO]          -1.7500      0.125    -14.000      0.045      -3.338      -0.162\n",
      "C(sodium_free)[T.low_sodium YES]         -0.5000      0.250     -2.000      0.295      -3.677       2.677\n",
      "C(gluten_free, Sum)[S.gluten_free NO]     0.2500      0.125      2.000      0.295      -1.338       1.838\n",
      "C(organic, Sum)[S.organic NO]            -1.1250      0.125     -9.000      0.070      -2.713       0.463\n",
      "C(multipack, Sum)[S.multipack NO]        -0.7500      0.125     -6.000      0.105      -2.338       0.838\n",
      "==============================================================================\n",
      "Omnibus:                       30.796   Durbin-Watson:                   2.000\n",
      "Prob(Omnibus):                  0.000   Jarque-Bera (JB):                2.667\n",
      "Skew:                           0.000   Prob(JB):                        0.264\n",
      "Kurtosis:                       1.000   Cond. No.                         2.62\n",
      "==============================================================================\n",
      "\n",
      "Notes:\n",
      "[1] Standard Errors assume that the covariance matrix of the errors is correctly specified.\n"
     ]
    },
    {
     "name": "stderr",
     "output_type": "stream",
     "text": [
      "C:\\Users\\krish\\Anaconda3\\lib\\site-packages\\scipy\\stats\\stats.py:1604: UserWarning: kurtosistest only valid for n>=20 ... continuing anyway, n=16\n",
      "  \"anyway, n=%i\" % int(n))\n"
     ]
    }
   ],
   "source": [
    "import statsmodels.api as sm\n",
    "\n",
    "import statsmodels.formula.api as smf\n",
    "model='ranking ~ C(flavor,Sum)+C(price,Sum)+C(weight,Sum)+C(fat_free,Sum)+C(sodium_free)+C(gluten_free,Sum)+C(organic,Sum)+C(multipack,Sum)'\n",
    "model_fit=smf.ols(model,data=cd).fit()\n",
    "print(model_fit.summary())"
   ]
  },
  {
   "cell_type": "code",
   "execution_count": 67,
   "metadata": {},
   "outputs": [],
   "source": [
    "conjoint_attributes = ['flavor', 'price', 'weight', 'fat_free', 'sodium_free', 'gluten_free','organic', 'multipack']"
   ]
  },
  {
   "cell_type": "code",
   "execution_count": 134,
   "metadata": {},
   "outputs": [
    {
     "name": "stdout",
     "output_type": "stream",
     "text": [
      "flavor\n",
      "price\n",
      "weight\n",
      "fat_free\n",
      "sodium_free\n",
      "gluten_free\n",
      "organic\n",
      "multipack\n",
      "########################################################################\n",
      "level name:\n",
      "[['cheese&onion', 'chicken_flavored', 'salt&vinegar', 'tomato_ketchup'], ['$1.00', '$2.00', '$3.00', '$4.00'], ['100g', '200g', '300g', '400g'], ['fat_free NO', 'fat_free YES'], ['low_sodium NO', 'low_sodium YES'], ['gluten_free NO', 'gluten_free YES'], ['organic NO', 'organic YES'], ['multipack NO', 'multipack YES']]\n",
      "npw with sum element:\n",
      "[-0.7499999999999991, 0.7499999999999991]\n",
      "imp level:\n",
      "{'flavor': 2, 'price': 0, 'weight': 0, 'fat_free': 1, 'sodium_free': 1, 'gluten_free': 0, 'organic': 1, 'multipack': 1}\n",
      "part worth:\n",
      "[[5.10702591327572e-15, 5.10702591327572e-15, 0.24999999999999223, -0.25000000000000244], [0.7500000000000016, 3.4416913763379853e-15, -4.440892098500626e-16, -0.7500000000000046], [5.000000000000002, 2.0000000000000036, -1.250000000000004, -5.750000000000002], [-1.7499999999999996, 1.7499999999999996], [-0.5000000000000036, 0.5000000000000036], [0.2500000000000009, -0.2500000000000009], [-1.1249999999999996, 1.1249999999999996], [-0.7499999999999991, 0.7499999999999991]]\n",
      "part_worth_range:\n",
      "[0.49999999999999467, 1.5000000000000062, 10.750000000000004, 3.499999999999999, 1.000000000000007, 0.5000000000000018, 2.249999999999999, 1.4999999999999982]\n",
      "8\n",
      "important levels:\n",
      "{'flavor': 2, 'price': 0, 'weight': 0, 'fat_free': 1, 'sodium_free': 1, 'gluten_free': 0, 'organic': 1, 'multipack': 1}\n"
     ]
    }
   ],
   "source": [
    "#building partworths information\n",
    "#calc attribute wise important level\n",
    "level_name = []\n",
    "part_worth = []\n",
    "part_worth_range = []\n",
    "important_levels = {}\n",
    "end = 1  # Initialize index for coefficient in params\n",
    "\n",
    "for item in conjoint_attributes:\n",
    "    nlevels = len(list(np.unique(cd[item])))\n",
    "    level_name.append(list(np.unique(cd[item])))\n",
    "    \n",
    "    begin = end\n",
    "    end = begin + nlevels -1\n",
    "    \n",
    "    new_part_worth = list(model_fit.params[begin:end])\n",
    "    new_part_worth.append((-1)*sum(new_part_worth))\n",
    "    important_levels[item] = np.argmax(new_part_worth)\n",
    "    part_worth.append(new_part_worth)\n",
    "    print(item)\n",
    "    #print(part_worth)\n",
    "    part_worth_range.append(max(new_part_worth) - min(new_part_worth))\n",
    "    # next iteration\n",
    "print(\"########################################################################\")\n",
    "print(\"level name:\")\n",
    "print(level_name)\n",
    "print(\"npw with sum element:\")\n",
    "print(new_part_worth)\n",
    "print(\"imp level:\")\n",
    "print(important_levels)\n",
    "print(\"part worth:\")\n",
    "print(part_worth)\n",
    "print(\"part_worth_range:\")\n",
    "print(part_worth_range)\n",
    "print(len(part_worth))\n",
    "print(\"important levels:\")\n",
    "print(important_levels)            "
   ]
  },
  {
   "cell_type": "code",
   "execution_count": 81,
   "metadata": {},
   "outputs": [
    {
     "name": "stdout",
     "output_type": "stream",
     "text": [
      "[2.33, 6.98, 50.0, 16.28, 4.65, 2.33, 10.47, 6.98]\n"
     ]
    }
   ],
   "source": [
    "#calc important attribute \n",
    "attribute_importance = []\n",
    "for i in part_worth_range:\n",
    "    #print(i)\n",
    "    attribute_importance.append(round(100*(i/sum(part_worth_range)),2))\n",
    "print(attribute_importance)"
   ]
  },
  {
   "cell_type": "code",
   "execution_count": 112,
   "metadata": {},
   "outputs": [
    {
     "name": "stdout",
     "output_type": "stream",
     "text": [
      "Attribute : flavor\n",
      "    Relative importance of attribute  2.33\n",
      "    Level wise part worths-\n",
      "0\n",
      "0\n",
      "          cheese&onion:5.10702591327572e-15\n",
      "0\n",
      "1\n",
      "          chicken_flavored:5.10702591327572e-15\n",
      "0\n",
      "2\n",
      "          salt&vinegar:0.24999999999999223\n",
      "0\n",
      "3\n",
      "          tomato_ketchup:-0.25000000000000244\n",
      "Attribute : price\n",
      "    Relative importance of attribute  6.98\n",
      "    Level wise part worths-\n",
      "1\n",
      "0\n",
      "          $1.00:0.7500000000000016\n",
      "1\n",
      "1\n",
      "          $2.00:3.4416913763379853e-15\n",
      "1\n",
      "2\n",
      "          $3.00:-4.440892098500626e-16\n",
      "1\n",
      "3\n",
      "          $4.00:-0.7500000000000046\n",
      "Attribute : weight\n",
      "    Relative importance of attribute  50.0\n",
      "    Level wise part worths-\n",
      "2\n",
      "0\n",
      "          100g:5.000000000000002\n",
      "2\n",
      "1\n",
      "          200g:2.0000000000000036\n",
      "2\n",
      "2\n",
      "          300g:-1.250000000000004\n",
      "2\n",
      "3\n",
      "          400g:-5.750000000000002\n",
      "Attribute : fat_free\n",
      "    Relative importance of attribute  16.28\n",
      "    Level wise part worths-\n",
      "3\n",
      "0\n",
      "          fat_free NO:-1.7499999999999996\n",
      "3\n",
      "1\n",
      "          fat_free YES:1.7499999999999996\n",
      "Attribute : sodium_free\n",
      "    Relative importance of attribute  4.65\n",
      "    Level wise part worths-\n",
      "4\n",
      "0\n",
      "          low_sodium NO:-0.5000000000000036\n",
      "4\n",
      "1\n",
      "          low_sodium YES:0.5000000000000036\n",
      "Attribute : gluten_free\n",
      "    Relative importance of attribute  2.33\n",
      "    Level wise part worths-\n",
      "5\n",
      "0\n",
      "          gluten_free NO:0.2500000000000009\n",
      "5\n",
      "1\n",
      "          gluten_free YES:-0.2500000000000009\n",
      "Attribute : organic\n",
      "    Relative importance of attribute  10.47\n",
      "    Level wise part worths-\n",
      "6\n",
      "0\n",
      "          organic NO:-1.1249999999999996\n",
      "6\n",
      "1\n",
      "          organic YES:1.1249999999999996\n",
      "Attribute : multipack\n",
      "    Relative importance of attribute  6.98\n",
      "    Level wise part worths-\n",
      "7\n",
      "0\n",
      "          multipack NO:-0.7499999999999991\n",
      "7\n",
      "1\n",
      "          multipack YES:0.7499999999999991\n"
     ]
    },
    {
     "data": {
      "text/plain": [
       "{'cheese&onion': 5.10702591327572e-15,\n",
       " 'chicken_flavored': 5.10702591327572e-15,\n",
       " 'salt&vinegar': 0.24999999999999223,\n",
       " 'tomato_ketchup': -0.25000000000000244,\n",
       " '$1.00': 0.7500000000000016,\n",
       " '$2.00': 3.4416913763379853e-15,\n",
       " '$3.00': -4.440892098500626e-16,\n",
       " '$4.00': -0.7500000000000046,\n",
       " '100g': 5.000000000000002,\n",
       " '200g': 2.0000000000000036,\n",
       " '300g': -1.250000000000004,\n",
       " '400g': -5.750000000000002,\n",
       " 'fat_free NO': -1.7499999999999996,\n",
       " 'fat_free YES': 1.7499999999999996,\n",
       " 'low_sodium NO': -0.5000000000000036,\n",
       " 'low_sodium YES': 0.5000000000000036,\n",
       " 'gluten_free NO': 0.2500000000000009,\n",
       " 'gluten_free YES': -0.2500000000000009,\n",
       " 'organic NO': -1.1249999999999996,\n",
       " 'organic YES': 1.1249999999999996,\n",
       " 'multipack NO': -0.7499999999999991,\n",
       " 'multipack YES': 0.7499999999999991}"
      ]
     },
     "execution_count": 112,
     "metadata": {},
     "output_type": "execute_result"
    },
    {
     "data": {
      "text/plain": [
       "{'flavor': ['cheese&onion',\n",
       "  'chicken_flavored',\n",
       "  'salt&vinegar',\n",
       "  'tomato_ketchup'],\n",
       " 'price': ['$1.00', '$2.00', '$3.00', '$4.00'],\n",
       " 'weight': ['100g', '200g', '300g', '400g'],\n",
       " 'fat_free': ['fat_free NO', 'fat_free YES'],\n",
       " 'sodium_free': ['low_sodium NO', 'low_sodium YES'],\n",
       " 'gluten_free': ['gluten_free NO', 'gluten_free YES'],\n",
       " 'organic': ['organic NO', 'organic YES'],\n",
       " 'multipack': ['multipack NO', 'multipack YES']}"
      ]
     },
     "execution_count": 112,
     "metadata": {},
     "output_type": "execute_result"
    }
   ],
   "source": [
    "part_worth_dict={}\n",
    "attrib_level={}\n",
    "for item,i in zip(conjoint_attributes,range(0,len(conjoint_attributes))):\n",
    "    print(\"Attribute :\",item)\n",
    "    print(\"    Relative importance of attribute \",attribute_importance[i])\n",
    "    print(\"    Level wise part worths-\")\n",
    "    for j in range(0,len(level_name[i])):\n",
    "        print(i)\n",
    "        print(j)\n",
    "        print(\"          {}:{}\".format(level_name[i][j],part_worth[i][j]))\n",
    "        part_worth_dict[level_name[i][j]]=part_worth[i][j]\n",
    "        attrib_level[item]=(level_name[i])\n",
    "        #print(j)\n",
    "part_worth_dict\n",
    "attrib_level\n",
    "\n",
    "    "
   ]
  },
  {
   "cell_type": "code",
   "execution_count": 78,
   "metadata": {},
   "outputs": [
    {
     "data": {
      "text/plain": [
       "<Figure size 720x432 with 0 Axes>"
      ]
     },
     "execution_count": 78,
     "metadata": {},
     "output_type": "execute_result"
    },
    {
     "data": {
      "text/plain": [
       "<matplotlib.axes._subplots.AxesSubplot at 0x2995bdfe408>"
      ]
     },
     "execution_count": 78,
     "metadata": {},
     "output_type": "execute_result"
    },
    {
     "data": {
      "text/plain": [
       "Text(0.5, 1.0, 'Relative importance of attributes')"
      ]
     },
     "execution_count": 78,
     "metadata": {},
     "output_type": "execute_result"
    },
    {
     "data": {
      "text/plain": [
       "Text(0.5, 0, 'Attributes')"
      ]
     },
     "execution_count": 78,
     "metadata": {},
     "output_type": "execute_result"
    },
    {
     "data": {
      "text/plain": [
       "Text(0, 0.5, 'Importance')"
      ]
     },
     "execution_count": 78,
     "metadata": {},
     "output_type": "execute_result"
    },
    {
     "data": {
      "image/png": "[encoded data removed]",
      "text/plain": [
       "<Figure size 720x432 with 1 Axes>"
      ]
     },
     "metadata": {
      "needs_background": "light"
     },
     "output_type": "display_data"
    }
   ],
   "source": [
    "plt.figure(figsize=(10,6))\n",
    "sns.barplot(x=conjoint_attributes,y=attribute_importance)\n",
    "plt.title('Relative importance of attributes')\n",
    "plt.xlabel('Attributes')\n",
    "plt.ylabel('Importance')"
   ]
  },
  {
   "cell_type": "code",
   "execution_count": 130,
   "metadata": {},
   "outputs": [
    {
     "data": {
      "text/plain": [
       "[1.8750000000000075,\n",
       " 4.124999999999997,\n",
       " -0.3749999999999978,\n",
       " -5.625000000000008,\n",
       " -1.125000000000012,\n",
       " 3.6249999999999916,\n",
       " -2.1250000000000027,\n",
       " -3.875000000000001,\n",
       " -4.3749999999999964,\n",
       " 6.8749999999999885,\n",
       " -4.624999999999994,\n",
       " -1.6249999999999911,\n",
       " 2.1249999999999996,\n",
       " 7.125000000000015,\n",
       " -8.375000000000007,\n",
       " 6.37500000000001]"
      ]
     },
     "execution_count": 130,
     "metadata": {},
     "output_type": "execute_result"
    }
   ],
   "source": [
    "# utility calculation\n",
    "\n",
    "utility = []\n",
    "for i in range(cd.shape[0]):\n",
    "    score = part_worth_dict[cd['flavor'][i]]+ part_worth_dict[cd['price'][i]]+    part_worth_dict[cd['weight'][i]]+part_worth_dict[cd['fat_free'][i]]+    part_worth_dict[cd['sodium_free'][i]]+part_worth_dict[cd['gluten_free'][i]]+    part_worth_dict[cd['organic'][i]]+part_worth_dict[cd['multipack'][i]]\n",
    "    utility.append(score)\n",
    "    \n",
    "cd['utility'] = utility\n",
    "utility"
   ]
  },
  {
   "cell_type": "code",
   "execution_count": 131,
   "metadata": {},
   "outputs": [
    {
     "data": {
      "text/plain": [
       "<BarContainer object of 16 artists>"
      ]
     },
     "execution_count": 131,
     "metadata": {},
     "output_type": "execute_result"
    },
    {
     "data": {
      "text/plain": [
       "Text(0.5, 0, 'row_number_of_entry')"
      ]
     },
     "execution_count": 131,
     "metadata": {},
     "output_type": "execute_result"
    },
    {
     "data": {
      "text/plain": [
       "Text(0, 0.5, 'Utility')"
      ]
     },
     "execution_count": 131,
     "metadata": {},
     "output_type": "execute_result"
    },
    {
     "data": {
      "text/plain": [
       "Text(0.5, 1.0, 'Utility score for the given combinations')"
      ]
     },
     "execution_count": 131,
     "metadata": {},
     "output_type": "execute_result"
    },
    {
     "data": {
      "image/png": "[encoded data removed]",
      "text/plain": [
       "<Figure size 432x288 with 1 Axes>"
      ]
     },
     "metadata": {
      "needs_background": "light"
     },
     "output_type": "display_data"
    }
   ],
   "source": [
    "plt.bar(range(0,len(utility)),utility)\n",
    "plt.xlabel('row_number_of_entry')\n",
    "plt.ylabel('Utility')\n",
    "plt.title('Utility score for the given combinations')"
   ]
  },
  {
   "cell_type": "code",
   "execution_count": 132,
   "metadata": {},
   "outputs": [
    {
     "name": "stdout",
     "output_type": "stream",
     "text": [
      "The profile that has the highest utility score : \n",
      " flavor         chicken_flavored\n",
      "price                     $2.00\n",
      "weight                     100g\n",
      "fat_free           fat_free YES\n",
      "sodium_free      low_sodium YES\n",
      "gluten_free      gluten_free NO\n",
      "organic              organic NO\n",
      "multipack         multipack YES\n",
      "ranking                      15\n",
      "utility                   7.125\n",
      "Name: 13, dtype: object\n"
     ]
    }
   ],
   "source": [
    "# Max utility \n",
    "print(\"The profile that has the highest utility score :\",'\\n', cd.iloc[np.argmax(utility)])"
   ]
  },
  {
   "cell_type": "code",
   "execution_count": 127,
   "metadata": {},
   "outputs": [
    {
     "name": "stdout",
     "output_type": "stream",
     "text": [
      "Preferred level in the attribute flavor is :: salt&vinegar\n",
      "Preferred level in the attribute price is :: $1.00\n",
      "Preferred level in the attribute weight is :: 100g\n",
      "Preferred level in the attribute fat_free is :: fat_free YES\n",
      "Preferred level in the attribute sodium_free is :: low_sodium YES\n",
      "Preferred level in the attribute gluten_free is :: gluten_free NO\n",
      "Preferred level in the attribute organic is :: organic YES\n",
      "Preferred level in the attribute multipack is :: multipack YES\n"
     ]
    }
   ],
   "source": [
    "for i,j in zip(attrib_level.keys(),range(0,len(conjoint_attributes))):\n",
    "    #print(i)\n",
    "    #level_name[j]\n",
    "    print(\"Preferred level in the attribute {} is :: {}\".format(i,level_name[j][important_levels[i]]))"
   ]
  },
  {
   "cell_type": "code",
   "execution_count": null,
   "metadata": {},
   "outputs": [],
   "source": []
  }
 ],
 "metadata": {
  "kernelspec": {
   "display_name": "Python 3",
   "language": "python",
   "name": "python3"
  },
  "language_info": {
   "codemirror_mode": {
    "name": "ipython",
    "version": 3
   },
   "file_extension": ".py",
   "mimetype": "text/x-python",
   "name": "python",
   "nbconvert_exporter": "python",
   "pygments_lexer": "ipython3",
   "version": "3.7.4"
  }
 },
 "nbformat": 4,
 "nbformat_minor": 2
}
